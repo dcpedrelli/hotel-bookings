{
 "cells": [
  {
   "cell_type": "markdown",
   "metadata": {},
   "source": [
    "# Hotel booking demand"
   ]
  },
  {
   "cell_type": "markdown",
   "metadata": {},
   "source": [
    "## Table of Contents\n",
    "\n",
    "1. [Statement of the problem](#problem)\n",
    "1. [Desciption of the Data](#description)\n",
    "1. [Importing Libraries](#lib)\n",
    "1. [Importing Data](#data)\n",
    "1. [Exploring Data](#explore)\n",
    "1. [Drawing Conclusions](#conclusions)"
   ]
  },
  {
   "cell_type": "markdown",
   "metadata": {},
   "source": [
    "<a id='problem'></a>\n",
    "\n",
    "## Statement of the Problem"
   ]
  },
  {
   "cell_type": "markdown",
   "metadata": {},
   "source": [
    "Travelling is one of the most important and exciting things for most people. On the other hand, for the hotels, it is important for them to know when are the good seasons, what kind of people usually cancel the reservations, if there is a demand for parking space, or how many children are also staying.\n",
    "\n",
    "In this project, we intend to give an overview of the features of the guests according to the dataset provided at:\n",
    "\n",
    "https://www.kaggle.com/jessemostipak/hotel-booking-demand\n",
    "\n",
    "Questions we answer:\n",
    "\n",
    "- What is the percentage of people that travels with kids?\n",
    "- When is the high, middle and low season?\n",
    "- How important is to have a parking space?\n",
    "- What are the features of cancelled bookings?"
   ]
  },
  {
   "cell_type": "markdown",
   "metadata": {},
   "source": [
    "<a id='problem'></a>\n",
    "\n",
    "## Description of the Data"
   ]
  },
  {
   "cell_type": "markdown",
   "metadata": {},
   "source": [
    "Content (taken from Kaggle):\n",
    "\n",
    "\"*This data set contains booking information for a city hotel and a resort hotel, and includes information such as when the booking was made, length of stay, the number of adults, children, and/or babies, and the number of available parking spaces, among other things.*\n",
    "\n",
    "*All personally identifying information has been removed from the data.*\"\n",
    "\n",
    "The data dictionary is given by:\n",
    "\n",
    "__hotel__ - Hotel (H1 = Resort Hotel or H2 = City Hotel);\n",
    "\n",
    "__is_canceled__ - Value indicating if the booking was canceled (1) or not (0);\n",
    "\n",
    "__lead_time__ - Number of days that elapsed between the entering date of the booking into the PMS and the arrival date;\n",
    "\n",
    "__arrival_date_year__ - Year of arrival date;\n",
    "\n",
    "__arrival_date_month__ - Month of arrival date;\n",
    "\n",
    "__arrival_date_week_number__ - Week number of year for arrival date;\n",
    "\n",
    "__arrival_date_day_of_month__ - Day of arrival date;\n",
    "\n",
    "__stays_in_weekend_nights__ - Number of weekend nights (Saturday or Sunday) the guest stayed or booked to stay at the hotel;\n",
    "\n",
    "__stays_in_week_nights__ - Number of week nights (Monday to Friday) the guest stayed or booked to stay at the hotel;\n",
    "\n",
    "__adults__ - Number of adults;\n",
    "\n",
    "__children__ - Number of children;\n",
    "\n",
    "__babies__ - Number of babies;\n",
    "\n",
    "__meal__ - Type of meal booked. Categories are presented in standard hospitality meal packages:\n",
    "    \n",
    "- Undefined/SC – no meal package; BB – Bed & Breakfast;\n",
    "- HB – Half board (breakfast and one other meal – usually dinner);\n",
    "- FB – Full board (breakfast, lunch and dinner)\n",
    "    \n",
    "__country__ - Country of origin. Categories are represented in the ISO 3155–3:2013 format;\n",
    "\n",
    "__market_segment__ - Market segment designation. In categories, the term “TA” means “Travel Agents” and “TO” means “Tour Operators”;\n",
    "\n",
    "__distribution_channel__ - Booking distribution channel. The term “TA” means “Travel Agents” and “TO” means “Tour Operators”;\n",
    "\n",
    "__is_repeated_guest__ - Value indicating if the booking name was from a repeated guest (1) or not (0);\n",
    "\n",
    "__previous_cancellations__ - Number of previous bookings that were cancelled by the customer prior to the current booking;\n",
    "\n",
    "__previous_bookings_not_canceled__ - Number of previous bookings not cancelled by the customer prior to the current booking;\n",
    "\n",
    "__reserved_room_type__ - Code of room type reserved. Code is presented instead of designation for anonymity reasons;\n",
    "\n",
    "__assigned_room_type__ - Code for the type of room assigned to the booking. Sometimes the assigned room type differs from the reserved room type due to hotel operation reasons (e.g. overbooking) or by customer request. Code is presented instead of designation for anonymity reasons;\n",
    "\n",
    "__booking_changes__ - Number of changes/amendments made to the booking from the moment the booking was entered on the PMS until the moment of check-in or cancellation;\n",
    "\n",
    "__deposit_type__ - Indication on if the customer made a deposit to guarantee the booking. This variable can assume three categories:\n",
    "    \n",
    "- No Deposit – no deposit was made;     \n",
    "- Non Refund – a deposit was made in the value of the total stay cost;\n",
    "- Refundable – a deposit was made with a value under the total cost of stay.\n",
    "\n",
    "__agent__ - ID of the travel agency that made the booking;\n",
    "\n",
    "__company__ - ID of the company/entity that made the booking or responsible for paying the booking. ID is presented instead of designation for anonymity reasons;\n",
    "\n",
    "__days_in_waiting_list__ - Number of days the booking was in the waiting list before it was confirmed to the customer;\n",
    "\n",
    "__customer_type__ - Type of booking, assuming one of four categories: \n",
    "\n",
    "- Contract - when the booking has an allotment or other type of contract associated to it;\n",
    "- Group – when the booking is associated to a group;\n",
    "- Transient – when the booking is not part of a group or contract, and is not associated to other transient booking;\n",
    "- Transient-party – when the booking is transient, but is associated to at least other transient booking\n",
    "    \n",
    "__adr__ - Average Daily Rate as defined by dividing the sum of all lodging transactions by the total number of staying nights;\n",
    "\n",
    "__required_car_parking_spaces__ - Number of car parking spaces required by the customer;\n",
    "\n",
    "__total_of_special_requests__ - Number of special requests made by the customer (e.g. twin bed or high floor);\n",
    "\n",
    "__reservation_status__ - Reservation last status, assuming one of three categories:\n",
    "\n",
    "- Canceled – booking was canceled by the customer;\n",
    "- Check-Out – customer has checked in but already departed;\n",
    "- No-Show – customer did not check-in and did inform the hotel of the reason why.\n",
    " \n",
    "__reservation_status_date__ - Date at which the last status was set. This variable can be used in conjunction with the ReservationStatus to understand when was the booking canceled or when did the customer checked-out of the hotel."
   ]
  },
  {
   "cell_type": "markdown",
   "metadata": {},
   "source": [
    "<a id=\"lib\"></a>\n",
    "\n",
    "## Importing Libraries"
   ]
  },
  {
   "cell_type": "markdown",
   "metadata": {},
   "source": [
    "The libraries we use are:"
   ]
  },
  {
   "cell_type": "code",
   "execution_count": 1,
   "metadata": {},
   "outputs": [],
   "source": [
    "import pandas as pd\n",
    "import numpy as np\n",
    "import matplotlib.pyplot as plt\n",
    "import seaborn as sns"
   ]
  },
  {
   "cell_type": "markdown",
   "metadata": {},
   "source": [
    "<a id='data'></a>\n",
    "\n",
    "## Importing Data"
   ]
  },
  {
   "cell_type": "code",
   "execution_count": 2,
   "metadata": {},
   "outputs": [],
   "source": [
    "book = pd.read_csv('hotel_bookings.csv')"
   ]
  },
  {
   "cell_type": "markdown",
   "metadata": {},
   "source": [
    "<a id='explore'></a>\n",
    "\n",
    "## Exploring Data"
   ]
  },
  {
   "cell_type": "markdown",
   "metadata": {},
   "source": [
    "In this section lets see what we have."
   ]
  },
  {
   "cell_type": "code",
   "execution_count": 3,
   "metadata": {},
   "outputs": [
    {
     "data": {
      "text/html": [
       "<div>\n",
       "<style scoped>\n",
       "    .dataframe tbody tr th:only-of-type {\n",
       "        vertical-align: middle;\n",
       "    }\n",
       "\n",
       "    .dataframe tbody tr th {\n",
       "        vertical-align: top;\n",
       "    }\n",
       "\n",
       "    .dataframe thead th {\n",
       "        text-align: right;\n",
       "    }\n",
       "</style>\n",
       "<table border=\"1\" class=\"dataframe\">\n",
       "  <thead>\n",
       "    <tr style=\"text-align: right;\">\n",
       "      <th></th>\n",
       "      <th>hotel</th>\n",
       "      <th>is_canceled</th>\n",
       "      <th>lead_time</th>\n",
       "      <th>arrival_date_year</th>\n",
       "      <th>arrival_date_month</th>\n",
       "      <th>arrival_date_week_number</th>\n",
       "      <th>arrival_date_day_of_month</th>\n",
       "      <th>stays_in_weekend_nights</th>\n",
       "      <th>stays_in_week_nights</th>\n",
       "      <th>adults</th>\n",
       "      <th>...</th>\n",
       "      <th>deposit_type</th>\n",
       "      <th>agent</th>\n",
       "      <th>company</th>\n",
       "      <th>days_in_waiting_list</th>\n",
       "      <th>customer_type</th>\n",
       "      <th>adr</th>\n",
       "      <th>required_car_parking_spaces</th>\n",
       "      <th>total_of_special_requests</th>\n",
       "      <th>reservation_status</th>\n",
       "      <th>reservation_status_date</th>\n",
       "    </tr>\n",
       "  </thead>\n",
       "  <tbody>\n",
       "    <tr>\n",
       "      <th>0</th>\n",
       "      <td>Resort Hotel</td>\n",
       "      <td>0</td>\n",
       "      <td>342</td>\n",
       "      <td>2015</td>\n",
       "      <td>July</td>\n",
       "      <td>27</td>\n",
       "      <td>1</td>\n",
       "      <td>0</td>\n",
       "      <td>0</td>\n",
       "      <td>2</td>\n",
       "      <td>...</td>\n",
       "      <td>No Deposit</td>\n",
       "      <td>NaN</td>\n",
       "      <td>NaN</td>\n",
       "      <td>0</td>\n",
       "      <td>Transient</td>\n",
       "      <td>0.0</td>\n",
       "      <td>0</td>\n",
       "      <td>0</td>\n",
       "      <td>Check-Out</td>\n",
       "      <td>2015-07-01</td>\n",
       "    </tr>\n",
       "    <tr>\n",
       "      <th>1</th>\n",
       "      <td>Resort Hotel</td>\n",
       "      <td>0</td>\n",
       "      <td>737</td>\n",
       "      <td>2015</td>\n",
       "      <td>July</td>\n",
       "      <td>27</td>\n",
       "      <td>1</td>\n",
       "      <td>0</td>\n",
       "      <td>0</td>\n",
       "      <td>2</td>\n",
       "      <td>...</td>\n",
       "      <td>No Deposit</td>\n",
       "      <td>NaN</td>\n",
       "      <td>NaN</td>\n",
       "      <td>0</td>\n",
       "      <td>Transient</td>\n",
       "      <td>0.0</td>\n",
       "      <td>0</td>\n",
       "      <td>0</td>\n",
       "      <td>Check-Out</td>\n",
       "      <td>2015-07-01</td>\n",
       "    </tr>\n",
       "    <tr>\n",
       "      <th>2</th>\n",
       "      <td>Resort Hotel</td>\n",
       "      <td>0</td>\n",
       "      <td>7</td>\n",
       "      <td>2015</td>\n",
       "      <td>July</td>\n",
       "      <td>27</td>\n",
       "      <td>1</td>\n",
       "      <td>0</td>\n",
       "      <td>1</td>\n",
       "      <td>1</td>\n",
       "      <td>...</td>\n",
       "      <td>No Deposit</td>\n",
       "      <td>NaN</td>\n",
       "      <td>NaN</td>\n",
       "      <td>0</td>\n",
       "      <td>Transient</td>\n",
       "      <td>75.0</td>\n",
       "      <td>0</td>\n",
       "      <td>0</td>\n",
       "      <td>Check-Out</td>\n",
       "      <td>2015-07-02</td>\n",
       "    </tr>\n",
       "    <tr>\n",
       "      <th>3</th>\n",
       "      <td>Resort Hotel</td>\n",
       "      <td>0</td>\n",
       "      <td>13</td>\n",
       "      <td>2015</td>\n",
       "      <td>July</td>\n",
       "      <td>27</td>\n",
       "      <td>1</td>\n",
       "      <td>0</td>\n",
       "      <td>1</td>\n",
       "      <td>1</td>\n",
       "      <td>...</td>\n",
       "      <td>No Deposit</td>\n",
       "      <td>304.0</td>\n",
       "      <td>NaN</td>\n",
       "      <td>0</td>\n",
       "      <td>Transient</td>\n",
       "      <td>75.0</td>\n",
       "      <td>0</td>\n",
       "      <td>0</td>\n",
       "      <td>Check-Out</td>\n",
       "      <td>2015-07-02</td>\n",
       "    </tr>\n",
       "    <tr>\n",
       "      <th>4</th>\n",
       "      <td>Resort Hotel</td>\n",
       "      <td>0</td>\n",
       "      <td>14</td>\n",
       "      <td>2015</td>\n",
       "      <td>July</td>\n",
       "      <td>27</td>\n",
       "      <td>1</td>\n",
       "      <td>0</td>\n",
       "      <td>2</td>\n",
       "      <td>2</td>\n",
       "      <td>...</td>\n",
       "      <td>No Deposit</td>\n",
       "      <td>240.0</td>\n",
       "      <td>NaN</td>\n",
       "      <td>0</td>\n",
       "      <td>Transient</td>\n",
       "      <td>98.0</td>\n",
       "      <td>0</td>\n",
       "      <td>1</td>\n",
       "      <td>Check-Out</td>\n",
       "      <td>2015-07-03</td>\n",
       "    </tr>\n",
       "  </tbody>\n",
       "</table>\n",
       "<p>5 rows × 32 columns</p>\n",
       "</div>"
      ],
      "text/plain": [
       "          hotel  is_canceled  lead_time  arrival_date_year arrival_date_month  \\\n",
       "0  Resort Hotel            0        342               2015               July   \n",
       "1  Resort Hotel            0        737               2015               July   \n",
       "2  Resort Hotel            0          7               2015               July   \n",
       "3  Resort Hotel            0         13               2015               July   \n",
       "4  Resort Hotel            0         14               2015               July   \n",
       "\n",
       "   arrival_date_week_number  arrival_date_day_of_month  \\\n",
       "0                        27                          1   \n",
       "1                        27                          1   \n",
       "2                        27                          1   \n",
       "3                        27                          1   \n",
       "4                        27                          1   \n",
       "\n",
       "   stays_in_weekend_nights  stays_in_week_nights  adults  ...  deposit_type  \\\n",
       "0                        0                     0       2  ...    No Deposit   \n",
       "1                        0                     0       2  ...    No Deposit   \n",
       "2                        0                     1       1  ...    No Deposit   \n",
       "3                        0                     1       1  ...    No Deposit   \n",
       "4                        0                     2       2  ...    No Deposit   \n",
       "\n",
       "   agent company days_in_waiting_list customer_type   adr  \\\n",
       "0    NaN     NaN                    0     Transient   0.0   \n",
       "1    NaN     NaN                    0     Transient   0.0   \n",
       "2    NaN     NaN                    0     Transient  75.0   \n",
       "3  304.0     NaN                    0     Transient  75.0   \n",
       "4  240.0     NaN                    0     Transient  98.0   \n",
       "\n",
       "   required_car_parking_spaces  total_of_special_requests  reservation_status  \\\n",
       "0                            0                          0           Check-Out   \n",
       "1                            0                          0           Check-Out   \n",
       "2                            0                          0           Check-Out   \n",
       "3                            0                          0           Check-Out   \n",
       "4                            0                          1           Check-Out   \n",
       "\n",
       "  reservation_status_date  \n",
       "0              2015-07-01  \n",
       "1              2015-07-01  \n",
       "2              2015-07-02  \n",
       "3              2015-07-02  \n",
       "4              2015-07-03  \n",
       "\n",
       "[5 rows x 32 columns]"
      ]
     },
     "execution_count": 3,
     "metadata": {},
     "output_type": "execute_result"
    }
   ],
   "source": [
    "book.head()"
   ]
  },
  {
   "cell_type": "markdown",
   "metadata": {},
   "source": [
    "### First, how many Resort Hotels and City Hotels we have in our data?"
   ]
  },
  {
   "cell_type": "code",
   "execution_count": 15,
   "metadata": {},
   "outputs": [
    {
     "data": {
      "image/png": "[encoded data removed]",
      "text/plain": [
       "<Figure size 432x288 with 1 Axes>"
      ]
     },
     "metadata": {
      "needs_background": "light"
     },
     "output_type": "display_data"
    }
   ],
   "source": [
    "book.hotel.hist()\n",
    "plt.show()"
   ]
  },
  {
   "cell_type": "markdown",
   "metadata": {},
   "source": [
    "We see that most of our data corresponds to City Hotels, around 80.000, while Resort Hotels are about 40.000, which still is a good dataset to analyze. For a better comprehension, lets split the data."
   ]
  },
  {
   "cell_type": "code",
   "execution_count": 5,
   "metadata": {},
   "outputs": [
    {
     "data": {
      "text/html": [
       "<div>\n",
       "<style scoped>\n",
       "    .dataframe tbody tr th:only-of-type {\n",
       "        vertical-align: middle;\n",
       "    }\n",
       "\n",
       "    .dataframe tbody tr th {\n",
       "        vertical-align: top;\n",
       "    }\n",
       "\n",
       "    .dataframe thead th {\n",
       "        text-align: right;\n",
       "    }\n",
       "</style>\n",
       "<table border=\"1\" class=\"dataframe\">\n",
       "  <thead>\n",
       "    <tr style=\"text-align: right;\">\n",
       "      <th></th>\n",
       "      <th>is_canceled</th>\n",
       "      <th>lead_time</th>\n",
       "      <th>arrival_date_year</th>\n",
       "      <th>arrival_date_month</th>\n",
       "      <th>arrival_date_week_number</th>\n",
       "      <th>arrival_date_day_of_month</th>\n",
       "      <th>stays_in_weekend_nights</th>\n",
       "      <th>stays_in_week_nights</th>\n",
       "      <th>adults</th>\n",
       "      <th>children</th>\n",
       "      <th>...</th>\n",
       "      <th>deposit_type</th>\n",
       "      <th>agent</th>\n",
       "      <th>company</th>\n",
       "      <th>days_in_waiting_list</th>\n",
       "      <th>customer_type</th>\n",
       "      <th>adr</th>\n",
       "      <th>required_car_parking_spaces</th>\n",
       "      <th>total_of_special_requests</th>\n",
       "      <th>reservation_status</th>\n",
       "      <th>reservation_status_date</th>\n",
       "    </tr>\n",
       "  </thead>\n",
       "  <tbody>\n",
       "    <tr>\n",
       "      <th>0</th>\n",
       "      <td>0</td>\n",
       "      <td>342</td>\n",
       "      <td>2015</td>\n",
       "      <td>July</td>\n",
       "      <td>27</td>\n",
       "      <td>1</td>\n",
       "      <td>0</td>\n",
       "      <td>0</td>\n",
       "      <td>2</td>\n",
       "      <td>0.0</td>\n",
       "      <td>...</td>\n",
       "      <td>No Deposit</td>\n",
       "      <td>NaN</td>\n",
       "      <td>NaN</td>\n",
       "      <td>0</td>\n",
       "      <td>Transient</td>\n",
       "      <td>0.0</td>\n",
       "      <td>0</td>\n",
       "      <td>0</td>\n",
       "      <td>Check-Out</td>\n",
       "      <td>2015-07-01</td>\n",
       "    </tr>\n",
       "    <tr>\n",
       "      <th>1</th>\n",
       "      <td>0</td>\n",
       "      <td>737</td>\n",
       "      <td>2015</td>\n",
       "      <td>July</td>\n",
       "      <td>27</td>\n",
       "      <td>1</td>\n",
       "      <td>0</td>\n",
       "      <td>0</td>\n",
       "      <td>2</td>\n",
       "      <td>0.0</td>\n",
       "      <td>...</td>\n",
       "      <td>No Deposit</td>\n",
       "      <td>NaN</td>\n",
       "      <td>NaN</td>\n",
       "      <td>0</td>\n",
       "      <td>Transient</td>\n",
       "      <td>0.0</td>\n",
       "      <td>0</td>\n",
       "      <td>0</td>\n",
       "      <td>Check-Out</td>\n",
       "      <td>2015-07-01</td>\n",
       "    </tr>\n",
       "    <tr>\n",
       "      <th>2</th>\n",
       "      <td>0</td>\n",
       "      <td>7</td>\n",
       "      <td>2015</td>\n",
       "      <td>July</td>\n",
       "      <td>27</td>\n",
       "      <td>1</td>\n",
       "      <td>0</td>\n",
       "      <td>1</td>\n",
       "      <td>1</td>\n",
       "      <td>0.0</td>\n",
       "      <td>...</td>\n",
       "      <td>No Deposit</td>\n",
       "      <td>NaN</td>\n",
       "      <td>NaN</td>\n",
       "      <td>0</td>\n",
       "      <td>Transient</td>\n",
       "      <td>75.0</td>\n",
       "      <td>0</td>\n",
       "      <td>0</td>\n",
       "      <td>Check-Out</td>\n",
       "      <td>2015-07-02</td>\n",
       "    </tr>\n",
       "    <tr>\n",
       "      <th>3</th>\n",
       "      <td>0</td>\n",
       "      <td>13</td>\n",
       "      <td>2015</td>\n",
       "      <td>July</td>\n",
       "      <td>27</td>\n",
       "      <td>1</td>\n",
       "      <td>0</td>\n",
       "      <td>1</td>\n",
       "      <td>1</td>\n",
       "      <td>0.0</td>\n",
       "      <td>...</td>\n",
       "      <td>No Deposit</td>\n",
       "      <td>304.0</td>\n",
       "      <td>NaN</td>\n",
       "      <td>0</td>\n",
       "      <td>Transient</td>\n",
       "      <td>75.0</td>\n",
       "      <td>0</td>\n",
       "      <td>0</td>\n",
       "      <td>Check-Out</td>\n",
       "      <td>2015-07-02</td>\n",
       "    </tr>\n",
       "    <tr>\n",
       "      <th>4</th>\n",
       "      <td>0</td>\n",
       "      <td>14</td>\n",
       "      <td>2015</td>\n",
       "      <td>July</td>\n",
       "      <td>27</td>\n",
       "      <td>1</td>\n",
       "      <td>0</td>\n",
       "      <td>2</td>\n",
       "      <td>2</td>\n",
       "      <td>0.0</td>\n",
       "      <td>...</td>\n",
       "      <td>No Deposit</td>\n",
       "      <td>240.0</td>\n",
       "      <td>NaN</td>\n",
       "      <td>0</td>\n",
       "      <td>Transient</td>\n",
       "      <td>98.0</td>\n",
       "      <td>0</td>\n",
       "      <td>1</td>\n",
       "      <td>Check-Out</td>\n",
       "      <td>2015-07-03</td>\n",
       "    </tr>\n",
       "  </tbody>\n",
       "</table>\n",
       "<p>5 rows × 31 columns</p>\n",
       "</div>"
      ],
      "text/plain": [
       "   is_canceled  lead_time  arrival_date_year arrival_date_month  \\\n",
       "0            0        342               2015               July   \n",
       "1            0        737               2015               July   \n",
       "2            0          7               2015               July   \n",
       "3            0         13               2015               July   \n",
       "4            0         14               2015               July   \n",
       "\n",
       "   arrival_date_week_number  arrival_date_day_of_month  \\\n",
       "0                        27                          1   \n",
       "1                        27                          1   \n",
       "2                        27                          1   \n",
       "3                        27                          1   \n",
       "4                        27                          1   \n",
       "\n",
       "   stays_in_weekend_nights  stays_in_week_nights  adults  children  ...  \\\n",
       "0                        0                     0       2       0.0  ...   \n",
       "1                        0                     0       2       0.0  ...   \n",
       "2                        0                     1       1       0.0  ...   \n",
       "3                        0                     1       1       0.0  ...   \n",
       "4                        0                     2       2       0.0  ...   \n",
       "\n",
       "   deposit_type  agent company days_in_waiting_list customer_type   adr  \\\n",
       "0    No Deposit    NaN     NaN                    0     Transient   0.0   \n",
       "1    No Deposit    NaN     NaN                    0     Transient   0.0   \n",
       "2    No Deposit    NaN     NaN                    0     Transient  75.0   \n",
       "3    No Deposit  304.0     NaN                    0     Transient  75.0   \n",
       "4    No Deposit  240.0     NaN                    0     Transient  98.0   \n",
       "\n",
       "   required_car_parking_spaces  total_of_special_requests reservation_status  \\\n",
       "0                            0                          0          Check-Out   \n",
       "1                            0                          0          Check-Out   \n",
       "2                            0                          0          Check-Out   \n",
       "3                            0                          0          Check-Out   \n",
       "4                            0                          1          Check-Out   \n",
       "\n",
       "  reservation_status_date  \n",
       "0              2015-07-01  \n",
       "1              2015-07-01  \n",
       "2              2015-07-02  \n",
       "3              2015-07-02  \n",
       "4              2015-07-03  \n",
       "\n",
       "[5 rows x 31 columns]"
      ]
     },
     "metadata": {},
     "output_type": "display_data"
    },
    {
     "data": {
      "text/html": [
       "<div>\n",
       "<style scoped>\n",
       "    .dataframe tbody tr th:only-of-type {\n",
       "        vertical-align: middle;\n",
       "    }\n",
       "\n",
       "    .dataframe tbody tr th {\n",
       "        vertical-align: top;\n",
       "    }\n",
       "\n",
       "    .dataframe thead th {\n",
       "        text-align: right;\n",
       "    }\n",
       "</style>\n",
       "<table border=\"1\" class=\"dataframe\">\n",
       "  <thead>\n",
       "    <tr style=\"text-align: right;\">\n",
       "      <th></th>\n",
       "      <th>is_canceled</th>\n",
       "      <th>lead_time</th>\n",
       "      <th>arrival_date_year</th>\n",
       "      <th>arrival_date_month</th>\n",
       "      <th>arrival_date_week_number</th>\n",
       "      <th>arrival_date_day_of_month</th>\n",
       "      <th>stays_in_weekend_nights</th>\n",
       "      <th>stays_in_week_nights</th>\n",
       "      <th>adults</th>\n",
       "      <th>children</th>\n",
       "      <th>...</th>\n",
       "      <th>deposit_type</th>\n",
       "      <th>agent</th>\n",
       "      <th>company</th>\n",
       "      <th>days_in_waiting_list</th>\n",
       "      <th>customer_type</th>\n",
       "      <th>adr</th>\n",
       "      <th>required_car_parking_spaces</th>\n",
       "      <th>total_of_special_requests</th>\n",
       "      <th>reservation_status</th>\n",
       "      <th>reservation_status_date</th>\n",
       "    </tr>\n",
       "  </thead>\n",
       "  <tbody>\n",
       "    <tr>\n",
       "      <th>40060</th>\n",
       "      <td>0</td>\n",
       "      <td>6</td>\n",
       "      <td>2015</td>\n",
       "      <td>July</td>\n",
       "      <td>27</td>\n",
       "      <td>1</td>\n",
       "      <td>0</td>\n",
       "      <td>2</td>\n",
       "      <td>1</td>\n",
       "      <td>0.0</td>\n",
       "      <td>...</td>\n",
       "      <td>No Deposit</td>\n",
       "      <td>6.0</td>\n",
       "      <td>NaN</td>\n",
       "      <td>0</td>\n",
       "      <td>Transient</td>\n",
       "      <td>0.0</td>\n",
       "      <td>0</td>\n",
       "      <td>0</td>\n",
       "      <td>Check-Out</td>\n",
       "      <td>2015-07-03</td>\n",
       "    </tr>\n",
       "    <tr>\n",
       "      <th>40061</th>\n",
       "      <td>1</td>\n",
       "      <td>88</td>\n",
       "      <td>2015</td>\n",
       "      <td>July</td>\n",
       "      <td>27</td>\n",
       "      <td>1</td>\n",
       "      <td>0</td>\n",
       "      <td>4</td>\n",
       "      <td>2</td>\n",
       "      <td>0.0</td>\n",
       "      <td>...</td>\n",
       "      <td>No Deposit</td>\n",
       "      <td>9.0</td>\n",
       "      <td>NaN</td>\n",
       "      <td>0</td>\n",
       "      <td>Transient</td>\n",
       "      <td>76.5</td>\n",
       "      <td>0</td>\n",
       "      <td>1</td>\n",
       "      <td>Canceled</td>\n",
       "      <td>2015-07-01</td>\n",
       "    </tr>\n",
       "    <tr>\n",
       "      <th>40062</th>\n",
       "      <td>1</td>\n",
       "      <td>65</td>\n",
       "      <td>2015</td>\n",
       "      <td>July</td>\n",
       "      <td>27</td>\n",
       "      <td>1</td>\n",
       "      <td>0</td>\n",
       "      <td>4</td>\n",
       "      <td>1</td>\n",
       "      <td>0.0</td>\n",
       "      <td>...</td>\n",
       "      <td>No Deposit</td>\n",
       "      <td>9.0</td>\n",
       "      <td>NaN</td>\n",
       "      <td>0</td>\n",
       "      <td>Transient</td>\n",
       "      <td>68.0</td>\n",
       "      <td>0</td>\n",
       "      <td>1</td>\n",
       "      <td>Canceled</td>\n",
       "      <td>2015-04-30</td>\n",
       "    </tr>\n",
       "    <tr>\n",
       "      <th>40063</th>\n",
       "      <td>1</td>\n",
       "      <td>92</td>\n",
       "      <td>2015</td>\n",
       "      <td>July</td>\n",
       "      <td>27</td>\n",
       "      <td>1</td>\n",
       "      <td>2</td>\n",
       "      <td>4</td>\n",
       "      <td>2</td>\n",
       "      <td>0.0</td>\n",
       "      <td>...</td>\n",
       "      <td>No Deposit</td>\n",
       "      <td>9.0</td>\n",
       "      <td>NaN</td>\n",
       "      <td>0</td>\n",
       "      <td>Transient</td>\n",
       "      <td>76.5</td>\n",
       "      <td>0</td>\n",
       "      <td>2</td>\n",
       "      <td>Canceled</td>\n",
       "      <td>2015-06-23</td>\n",
       "    </tr>\n",
       "    <tr>\n",
       "      <th>40064</th>\n",
       "      <td>1</td>\n",
       "      <td>100</td>\n",
       "      <td>2015</td>\n",
       "      <td>July</td>\n",
       "      <td>27</td>\n",
       "      <td>2</td>\n",
       "      <td>0</td>\n",
       "      <td>2</td>\n",
       "      <td>2</td>\n",
       "      <td>0.0</td>\n",
       "      <td>...</td>\n",
       "      <td>No Deposit</td>\n",
       "      <td>9.0</td>\n",
       "      <td>NaN</td>\n",
       "      <td>0</td>\n",
       "      <td>Transient</td>\n",
       "      <td>76.5</td>\n",
       "      <td>0</td>\n",
       "      <td>1</td>\n",
       "      <td>Canceled</td>\n",
       "      <td>2015-04-02</td>\n",
       "    </tr>\n",
       "  </tbody>\n",
       "</table>\n",
       "<p>5 rows × 31 columns</p>\n",
       "</div>"
      ],
      "text/plain": [
       "       is_canceled  lead_time  arrival_date_year arrival_date_month  \\\n",
       "40060            0          6               2015               July   \n",
       "40061            1         88               2015               July   \n",
       "40062            1         65               2015               July   \n",
       "40063            1         92               2015               July   \n",
       "40064            1        100               2015               July   \n",
       "\n",
       "       arrival_date_week_number  arrival_date_day_of_month  \\\n",
       "40060                        27                          1   \n",
       "40061                        27                          1   \n",
       "40062                        27                          1   \n",
       "40063                        27                          1   \n",
       "40064                        27                          2   \n",
       "\n",
       "       stays_in_weekend_nights  stays_in_week_nights  adults  children  ...  \\\n",
       "40060                        0                     2       1       0.0  ...   \n",
       "40061                        0                     4       2       0.0  ...   \n",
       "40062                        0                     4       1       0.0  ...   \n",
       "40063                        2                     4       2       0.0  ...   \n",
       "40064                        0                     2       2       0.0  ...   \n",
       "\n",
       "       deposit_type agent company days_in_waiting_list customer_type   adr  \\\n",
       "40060    No Deposit   6.0     NaN                    0     Transient   0.0   \n",
       "40061    No Deposit   9.0     NaN                    0     Transient  76.5   \n",
       "40062    No Deposit   9.0     NaN                    0     Transient  68.0   \n",
       "40063    No Deposit   9.0     NaN                    0     Transient  76.5   \n",
       "40064    No Deposit   9.0     NaN                    0     Transient  76.5   \n",
       "\n",
       "       required_car_parking_spaces  total_of_special_requests  \\\n",
       "40060                            0                          0   \n",
       "40061                            0                          1   \n",
       "40062                            0                          1   \n",
       "40063                            0                          2   \n",
       "40064                            0                          1   \n",
       "\n",
       "      reservation_status reservation_status_date  \n",
       "40060          Check-Out              2015-07-03  \n",
       "40061           Canceled              2015-07-01  \n",
       "40062           Canceled              2015-04-30  \n",
       "40063           Canceled              2015-06-23  \n",
       "40064           Canceled              2015-04-02  \n",
       "\n",
       "[5 rows x 31 columns]"
      ]
     },
     "execution_count": 5,
     "metadata": {},
     "output_type": "execute_result"
    }
   ],
   "source": [
    "resort = book[book.hotel=='Resort Hotel'].drop('hotel',axis=1)\n",
    "city_ht = book[book.hotel=='City Hotel'].drop('hotel',axis=1)\n",
    "\n",
    "display(resort.head())\n",
    "city_ht.head()"
   ]
  },
  {
   "cell_type": "markdown",
   "metadata": {},
   "source": [
    "### What is the percentage of people that travels with kids?"
   ]
  },
  {
   "cell_type": "markdown",
   "metadata": {},
   "source": [
    "How many kids, here defined as children or babies, usually come in the bookings? Lets answer this with the following pie chart:"
   ]
  },
  {
   "cell_type": "code",
   "execution_count": 6,
   "metadata": {},
   "outputs": [
    {
     "data": {
      "image/png": "[encoded data removed]",
      "text/plain": [
       "<Figure size 1080x432 with 2 Axes>"
      ]
     },
     "metadata": {},
     "output_type": "display_data"
    }
   ],
   "source": [
    "kids_city = (city_ht.children.value_counts(normalize=True)\\\n",
    "             +city_ht.babies.value_counts(normalize=True)).dropna()/2\n",
    "kids_resort = (resort.children.value_counts(normalize=True)\\\n",
    "               +resort.babies.value_counts(normalize=True)).dropna()/2\n",
    "\n",
    "fig, ax = plt.subplots(1,2,figsize=(15,6))\n",
    "explode = (0, 0.1,0.1)\n",
    "\n",
    "ax[0].pie(kids_city,autopct='%5.1f%%',pctdistance=1.1,\\\n",
    "          explode=explode,startangle=320,textprops={'fontsize': 14})\n",
    "ax[1].pie(kids_resort,autopct='%5.1f%%',pctdistance=1.1,\\\n",
    "          explode=explode,startangle=320,textprops={'fontsize': 14})\n",
    "ax[0].set_title('Number of Kids - City Hotels')\n",
    "ax[1].set_title('Number of Kids - Resort Hotels')\n",
    "ax[0].legend(labels=['0','1','2'])\n",
    "ax[1].legend(labels=['0','1','2'])\n",
    "plt.show()"
   ]
  },
  {
   "cell_type": "markdown",
   "metadata": {},
   "source": [
    "As we can see, most people usually don't make reservations with kids. However, Resort Hotels receive more kids than City Hotels, which means that a place not having a good environment for kids is a negative point that can affect the reviews of Resort Hotels."
   ]
  },
  {
   "cell_type": "markdown",
   "metadata": {},
   "source": [
    "### When are the high, middle and low season?"
   ]
  },
  {
   "cell_type": "markdown",
   "metadata": {},
   "source": [
    "To answer this question, lets check the bookings for each month."
   ]
  },
  {
   "cell_type": "code",
   "execution_count": 7,
   "metadata": {},
   "outputs": [
    {
     "data": {
      "image/png": "[encoded data removed]",
      "text/plain": [
       "<Figure size 720x360 with 1 Axes>"
      ]
     },
     "metadata": {
      "needs_background": "light"
     },
     "output_type": "display_data"
    }
   ],
   "source": [
    "order = ['January','February', 'March', 'April', 'May', 'June',\\\n",
    "         'July', 'August', 'September', 'October', 'November', 'December']\n",
    "\n",
    "\n",
    "fig, ax = plt.subplots(figsize=(10,5))\n",
    "ax.bar(order, city_ht['arrival_date_month'].value_counts()[order],label='City Hotel')\n",
    "ax.bar(order, resort['arrival_date_month'].value_counts()[order],label='Resort Hotel')\n",
    "ax.set_xticklabels(order,rotation=45)\n",
    "ax.set_title('Bookings by Month')\n",
    "ax.legend()\n",
    "plt.show()"
   ]
  },
  {
   "cell_type": "markdown",
   "metadata": {},
   "source": [
    "We see that August has the majority of the bookings, both for City Hotels and Resort Hotels. We could classify the seasons as:\n",
    "\n",
    "- low season: __January, December, November, February__\n",
    "\n",
    "- middle season: __March, September, April, October__\n",
    "\n",
    "- high season: __June, July, May, August__"
   ]
  },
  {
   "cell_type": "markdown",
   "metadata": {},
   "source": [
    "### How important is to have a parking space?"
   ]
  },
  {
   "cell_type": "markdown",
   "metadata": {},
   "source": [
    "Below we have a pie chart for the parking spaces required:"
   ]
  },
  {
   "cell_type": "code",
   "execution_count": 8,
   "metadata": {},
   "outputs": [
    {
     "data": {
      "image/png": "[encoded data removed]",
      "text/plain": [
       "<Figure size 1080x432 with 2 Axes>"
      ]
     },
     "metadata": {},
     "output_type": "display_data"
    }
   ],
   "source": [
    "fig, ax = plt.subplots(1,2,figsize=(15,6))\n",
    "explode = (0, 0.1)\n",
    "pie_city = city_ht.required_car_parking_spaces.value_counts(normalize=True)\n",
    "pie_resort = resort.required_car_parking_spaces.value_counts(normalize=True)\n",
    "ax[0].pie(pie_city[pie_city>0.01],labels=['0','1'],autopct='%1.1f%%',\\\n",
    "          explode=explode,startangle=320,textprops={'fontsize': 14})\n",
    "ax[1].pie(pie_resort[pie_resort>0.01],labels=['0','1'],autopct='%1.1f%%',\\\n",
    "          explode=explode,startangle=320,textprops={'fontsize': 14})\n",
    "ax[0].set_title('Parking Spaces Required - City Hotels')\n",
    "ax[1].set_title('Parking Spaces Required - Resort Hotels')\n",
    "plt.show()"
   ]
  },
  {
   "cell_type": "markdown",
   "metadata": {},
   "source": [
    "In both charts we observe that most people don't care so much about having parking spaces. However, the slice of the pie devoted to people who require a parking space is higher in Resort Hotels, reaching 13.6%. Therefore, if you want to have a resort, providing __at least 1 parking space per reservation is a must__."
   ]
  },
  {
   "cell_type": "markdown",
   "metadata": {},
   "source": [
    "### What are the features of cancelled bookings?"
   ]
  },
  {
   "cell_type": "markdown",
   "metadata": {},
   "source": [
    "#### Cancellations by Month"
   ]
  },
  {
   "cell_type": "markdown",
   "metadata": {},
   "source": [
    "Lets check when most cancellations happen"
   ]
  },
  {
   "cell_type": "code",
   "execution_count": 14,
   "metadata": {},
   "outputs": [
    {
     "data": {
      "image/png": "[encoded data removed]",
      "text/plain": [
       "<Figure size 720x360 with 1 Axes>"
      ]
     },
     "metadata": {
      "needs_background": "light"
     },
     "output_type": "display_data"
    }
   ],
   "source": [
    "def v_counts(df,x):\n",
    "    return df.loc[df.is_canceled==1,x].value_counts(normalize=True)\n",
    "\n",
    "barWidth = 0.25\n",
    "\n",
    "x_axis = np.arange(len(order))\n",
    "\n",
    "fig, ax = plt.subplots(figsize=(10,5))\n",
    "ax.bar(x_axis,v_counts(resort,'arrival_date_month')[order],label='Resort Hotel',width=barWidth,edgecolor='white')\n",
    "ax.bar([x + barWidth for x in x_axis],v_counts(city_ht,'arrival_date_month')[order]\\\n",
    "       ,label='City Hotel',width=barWidth,edgecolor='white')\n",
    "plt.xticks(x_axis+barWidth,order,rotation=45)\n",
    "ax.set_title('Percentage of Total Cancelations by Month')\n",
    "ax.legend()\n",
    "plt.show()"
   ]
  },
  {
   "cell_type": "markdown",
   "metadata": {},
   "source": [
    "As we can see, most cancellations happen in the high season. Which is expected, since most reservations are being done."
   ]
  },
  {
   "cell_type": "markdown",
   "metadata": {},
   "source": [
    "#### Number of Adults"
   ]
  },
  {
   "cell_type": "markdown",
   "metadata": {},
   "source": [
    "Does the number of adults have any influence on the cancellations?"
   ]
  },
  {
   "cell_type": "code",
   "execution_count": 16,
   "metadata": {},
   "outputs": [
    {
     "data": {
      "image/png": "[encoded data removed]",
      "text/plain": [
       "<Figure size 1080x432 with 2 Axes>"
      ]
     },
     "metadata": {},
     "output_type": "display_data"
    }
   ],
   "source": [
    "fig, ax = plt.subplots(1,2,figsize=(15,6))\n",
    "explode = (0.1, 0.1,0.1)\n",
    "city_adults = v_counts(city_ht,'adults')\n",
    "resort_adults = v_counts(resort,'adults')\n",
    "ax[0].pie(city_adults[city_adults>0.01],labels=['1','2','3'],autopct='%1.1f%%',\\\n",
    "          explode=explode,startangle=320,textprops={'fontsize': 14})\n",
    "ax[1].pie(resort_adults[resort_adults>0.01],labels=['1','2','3'],autopct='%1.1f%%',\\\n",
    "          explode=explode,startangle=320,textprops={'fontsize': 14})\n",
    "ax[0].set_title('Number of Adults - City Hotels')\n",
    "ax[1].set_title('Number of Adults - Resort Hotels')\n",
    "plt.show() "
   ]
  },
  {
   "cell_type": "markdown",
   "metadata": {},
   "source": [
    "As we can see, the number of adults which cancel the reservation has some impact on the cancellation, mostly for City Hotels."
   ]
  },
  {
   "cell_type": "markdown",
   "metadata": {},
   "source": [
    "#### Repeated Guests"
   ]
  },
  {
   "cell_type": "markdown",
   "metadata": {},
   "source": [
    "The repeated guests influence on the cancellations?"
   ]
  },
  {
   "cell_type": "code",
   "execution_count": 12,
   "metadata": {},
   "outputs": [
    {
     "data": {
      "image/png": "[encoded data removed]",
      "text/plain": [
       "<Figure size 720x360 with 1 Axes>"
      ]
     },
     "metadata": {
      "needs_background": "light"
     },
     "output_type": "display_data"
    }
   ],
   "source": [
    "fig, ax = plt.subplots(figsize=(10,5))\n",
    "\n",
    "rep_city = city_ht.is_repeated_guest.value_counts(normalize=True).values\n",
    "rep_res = resort.is_repeated_guest.value_counts(normalize=True).values\n",
    "\n",
    "barWidth = 0.25\n",
    "\n",
    "ax.bar([0,1],rep_city[0:2],label='City Hotel',width=barWidth,edgecolor='white')\n",
    "ax.bar([x + barWidth for x in [0,1]],rep_res[0:2],label='Resort Hotel',width=barWidth,edgecolor='white')\n",
    "plt.xticks(np.array([0,1])+0.12,['Non Repeated Guest','Repeated Guest'])\n",
    "ax.set_title('Percentage of Repeated and Non Repeated Guests')\n",
    "ax.legend()\n",
    "plt.show()"
   ]
  },
  {
   "cell_type": "markdown",
   "metadata": {},
   "source": [
    "As we can see, repeated guests doesn't have so much impact on when the reservation will be cancelled."
   ]
  },
  {
   "cell_type": "markdown",
   "metadata": {},
   "source": [
    "#### Made Previous Cancellations"
   ]
  },
  {
   "cell_type": "markdown",
   "metadata": {},
   "source": [
    "If the guests made previous cancellations, is that an indicative that he will cancel agains?"
   ]
  },
  {
   "cell_type": "code",
   "execution_count": 13,
   "metadata": {},
   "outputs": [
    {
     "data": {
      "image/png": "[encoded data removed]",
      "text/plain": [
       "<Figure size 720x360 with 1 Axes>"
      ]
     },
     "metadata": {
      "needs_background": "light"
     },
     "output_type": "display_data"
    }
   ],
   "source": [
    "fig, ax = plt.subplots(figsize=(10,5))\n",
    "\n",
    "arr_city = city_ht.previous_cancellations.value_counts(normalize=True).values\n",
    "arr_res = resort.previous_cancellations.value_counts(normalize=True).values\n",
    "\n",
    "barWidth = 0.25\n",
    "\n",
    "x_axis = np.arange(len(order))\n",
    "\n",
    "ax.bar([0,1],arr_city[0:2],label='Resort Hotel',width=barWidth,edgecolor='white')\n",
    "ax.bar([x + barWidth for x in [0,1]],arr_res[0:2]\\\n",
    "       ,label='City Hotel',width=barWidth,edgecolor='white')\n",
    "plt.xticks(np.array([0,1])+0.12,['Never Cancelled','Cancelled before'])\n",
    "ax.set_title('Percentage of people who made previous cancellations')\n",
    "ax.legend()\n",
    "plt.show()"
   ]
  },
  {
   "cell_type": "markdown",
   "metadata": {},
   "source": [
    "Although small, we observe that around 10 % (Resort Hotels) those who cancelled before tend to cancel againg, which is a reasonable number."
   ]
  },
  {
   "cell_type": "markdown",
   "metadata": {},
   "source": [
    "<a id='conclusions'></a>\n",
    "\n",
    "## Drawing Conclusions"
   ]
  },
  {
   "cell_type": "markdown",
   "metadata": {},
   "source": [
    "In this project, we were able to give an overview of the features that may impact the business of Hotels. We separated the analysis between city Hotels and resort Hotels. Below we see the questions and answer we give:\n",
    "\n",
    "- __What is the percentage of people that travels with kids?__\n",
    "City Hotels: 3.4 %\n",
    "\n",
    "Resort Hotels: 5.0 %\n",
    "\n",
    "- __When is the high, middle and low season?__\n",
    "\n",
    "low season: January, December, November, February\n",
    "\n",
    "middle season: March, September, April, October\n",
    "\n",
    "high season: June, July, May, August\n",
    "\n",
    "- __How important is to have a parking space?__\n",
    "\n",
    "City Hotels: 2.4 % of reservations require 1 parking space\n",
    "\n",
    "Resort Hotels: 13.6 % of reservations require 1 parking space\n",
    "\n",
    "- __What are the features of cancelled bookings?__\n",
    "\n",
    "Cancellations by Month: Most cancellations happen in the middle or high season\n",
    "\n",
    "Number of Adults: Most cancellation are done by 1 (77.8% for City Hotels and  85.4% for Resort Hotels) and 2 (16.5% for City Hotels and  11.0% for Resort Hotels) adults.\n",
    "\n",
    "Repeated Guests: Repeated guest usually don't cancell the reservation, so they are safer when considering the money that will enter the month of the reservation.\n",
    "\n",
    "Made Previous Cancellations: Cancelled before is a important indicative if there will be a cancellation."
   ]
  }
 ],
 "metadata": {
  "kernelspec": {
   "display_name": "Python 3",
   "language": "python",
   "name": "python3"
  },
  "language_info": {
   "codemirror_mode": {
    "name": "ipython",
    "version": 3
   },
   "file_extension": ".py",
   "mimetype": "text/x-python",
   "name": "python",
   "nbconvert_exporter": "python",
   "pygments_lexer": "ipython3",
   "version": "3.7.6"
  }
 },
 "nbformat": 4,
 "nbformat_minor": 4
}
